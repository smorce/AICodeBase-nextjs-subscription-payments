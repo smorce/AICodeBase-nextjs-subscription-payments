{
  "cells": [
    {
      "cell_type": "code",
      "execution_count": null,
      "metadata": {
        "colab": {
          "base_uri": "https://localhost:8080/"
        },
        "id": "lIYdn1woOS1n",
        "outputId": "7fb22e2f-5008-43bd-a556-f1940676b6a8"
      },
      "outputs": [
        {
          "output_type": "stream",
          "name": "stdout",
          "text": [
            "Cloning into 'AICodeBase-nextjs-subscription-payments'...\n",
            "remote: Enumerating objects: 1308, done.\u001b[K\n",
            "remote: Counting objects: 100% (48/48), done.\u001b[K\n",
            "remote: Compressing objects: 100% (35/35), done.\u001b[K\n",
            "remote: Total 1308 (delta 18), reused 38 (delta 11), pack-reused 1260 (from 1)\u001b[K\n",
            "Receiving objects: 100% (1308/1308), 1.39 MiB | 9.88 MiB/s, done.\n",
            "Resolving deltas: 100% (682/682), done.\n"
          ]
        }
      ],
      "source": [
        "!git clone https://github.com/smorce/AICodeBase-nextjs-subscription-payments"
      ]
    },
    {
      "cell_type": "code",
      "source": [
        "!pip install -q -U google-generativeai\n",
        "!sudo apt-get install tree"
      ],
      "metadata": {
        "id": "jIg23mGnApD9",
        "outputId": "66fc3322-ba9c-4ae5-9592-7d6706d1e212",
        "colab": {
          "base_uri": "https://localhost:8080/"
        }
      },
      "execution_count": null,
      "outputs": [
        {
          "output_type": "stream",
          "name": "stdout",
          "text": [
            "Reading package lists... Done\n",
            "Building dependency tree... Done\n",
            "Reading state information... Done\n",
            "tree is already the newest version (2.0.2-1).\n",
            "0 upgraded, 0 newly installed, 0 to remove and 49 not upgraded.\n"
          ]
        }
      ]
    },
    {
      "cell_type": "code",
      "source": [
        "%cd AICodeBase-nextjs-subscription-payments"
      ],
      "metadata": {
        "id": "X7Z6sNupkAxl"
      },
      "execution_count": null,
      "outputs": []
    },
    {
      "cell_type": "code",
      "source": [
        "!tree /content/AICodeBase-nextjs-subscription-payments"
      ],
      "metadata": {
        "id": "lozuYnpEAph2",
        "outputId": "f2c7213b-b90a-4375-fec7-32c635650a43",
        "colab": {
          "base_uri": "https://localhost:8080/"
        }
      },
      "execution_count": null,
      "outputs": [
        {
          "output_type": "stream",
          "name": "stdout",
          "text": [
            "\u001b[01;34m/content/AICodeBase-nextjs-subscription-payments\u001b[0m\n",
            "├── \u001b[01;34mapp\u001b[0m\n",
            "│   ├── \u001b[01;34maccount\u001b[0m\n",
            "│   │   └── \u001b[00mpage.tsx\u001b[0m\n",
            "│   ├── \u001b[01;34mapi\u001b[0m\n",
            "│   │   └── \u001b[01;34mwebhooks\u001b[0m\n",
            "│   │       └── \u001b[00mroute.ts\u001b[0m\n",
            "│   ├── \u001b[01;34mauth\u001b[0m\n",
            "│   │   ├── \u001b[01;34mcallback\u001b[0m\n",
            "│   │   │   └── \u001b[00mroute.ts\u001b[0m\n",
            "│   │   └── \u001b[01;34mreset_password\u001b[0m\n",
            "│   │       └── \u001b[00mroute.ts\u001b[0m\n",
            "│   ├── \u001b[00mlayout.tsx\u001b[0m\n",
            "│   ├── \u001b[00mopengraph-image.png\u001b[0m\n",
            "│   ├── \u001b[00mpage.tsx\u001b[0m\n",
            "│   └── \u001b[01;34msignin\u001b[0m\n",
            "│       ├── \u001b[01;34m[id]\u001b[0m\n",
            "│       │   └── \u001b[00mpage.tsx\u001b[0m\n",
            "│       └── \u001b[00mpage.tsx\u001b[0m\n",
            "├── \u001b[01;34mcomponents\u001b[0m\n",
            "│   ├── \u001b[01;34micons\u001b[0m\n",
            "│   │   ├── \u001b[00mGitHub.tsx\u001b[0m\n",
            "│   │   └── \u001b[00mLogo.tsx\u001b[0m\n",
            "│   └── \u001b[01;34mui\u001b[0m\n",
            "│       ├── \u001b[01;34mAccountForms\u001b[0m\n",
            "│       │   ├── \u001b[00mCustomerPortalForm.tsx\u001b[0m\n",
            "│       │   ├── \u001b[00mEmailForm.tsx\u001b[0m\n",
            "│       │   └── \u001b[00mNameForm.tsx\u001b[0m\n",
            "│       ├── \u001b[01;34mAuthForms\u001b[0m\n",
            "│       │   ├── \u001b[00mEmailSignIn.tsx\u001b[0m\n",
            "│       │   ├── \u001b[00mForgotPassword.tsx\u001b[0m\n",
            "│       │   ├── \u001b[00mOauthSignIn.tsx\u001b[0m\n",
            "│       │   ├── \u001b[00mPasswordSignIn.tsx\u001b[0m\n",
            "│       │   ├── \u001b[00mSeparator.tsx\u001b[0m\n",
            "│       │   ├── \u001b[00mSignup.tsx\u001b[0m\n",
            "│       │   └── \u001b[00mUpdatePassword.tsx\u001b[0m\n",
            "│       ├── \u001b[01;34mButton\u001b[0m\n",
            "│       │   ├── \u001b[00mButton.module.css\u001b[0m\n",
            "│       │   ├── \u001b[00mButton.tsx\u001b[0m\n",
            "│       │   └── \u001b[00mindex.ts\u001b[0m\n",
            "│       ├── \u001b[01;34mCard\u001b[0m\n",
            "│       │   ├── \u001b[00mCard.tsx\u001b[0m\n",
            "│       │   └── \u001b[00mindex.ts\u001b[0m\n",
            "│       ├── \u001b[01;34mFooter\u001b[0m\n",
            "│       │   ├── \u001b[00mFooter.tsx\u001b[0m\n",
            "│       │   └── \u001b[00mindex.ts\u001b[0m\n",
            "│       ├── \u001b[01;34mInput\u001b[0m\n",
            "│       │   ├── \u001b[00mindex.ts\u001b[0m\n",
            "│       │   ├── \u001b[00mInput.module.css\u001b[0m\n",
            "│       │   └── \u001b[00mInput.tsx\u001b[0m\n",
            "│       ├── \u001b[01;34mLoadingDots\u001b[0m\n",
            "│       │   ├── \u001b[00mindex.ts\u001b[0m\n",
            "│       │   ├── \u001b[00mLoadingDots.module.css\u001b[0m\n",
            "│       │   └── \u001b[00mLoadingDots.tsx\u001b[0m\n",
            "│       ├── \u001b[01;34mLogoCloud\u001b[0m\n",
            "│       │   ├── \u001b[00mindex.ts\u001b[0m\n",
            "│       │   └── \u001b[00mLogoCloud.tsx\u001b[0m\n",
            "│       ├── \u001b[01;34mNavbar\u001b[0m\n",
            "│       │   ├── \u001b[00mindex.ts\u001b[0m\n",
            "│       │   ├── \u001b[00mNavbar.module.css\u001b[0m\n",
            "│       │   ├── \u001b[00mNavbar.tsx\u001b[0m\n",
            "│       │   └── \u001b[00mNavlinks.tsx\u001b[0m\n",
            "│       ├── \u001b[01;34mPricing\u001b[0m\n",
            "│       │   └── \u001b[00mPricing.tsx\u001b[0m\n",
            "│       └── \u001b[01;34mToasts\u001b[0m\n",
            "│           ├── \u001b[00mtoaster.tsx\u001b[0m\n",
            "│           ├── \u001b[00mtoast.tsx\u001b[0m\n",
            "│           └── \u001b[00muse-toast.ts\u001b[0m\n",
            "├── \u001b[00mcomponents.json\u001b[0m\n",
            "├── \u001b[01;34mdocs\u001b[0m\n",
            "│   ├── \u001b[00mmemo.md\u001b[0m\n",
            "│   └── \u001b[00mproject_summary.md\u001b[0m\n",
            "├── \u001b[01;34mfixtures\u001b[0m\n",
            "│   └── \u001b[00mstripe-fixtures.json\u001b[0m\n",
            "├── \u001b[00missue_creator.log\u001b[0m\n",
            "├── \u001b[00mLICENSE\u001b[0m\n",
            "├── \u001b[00mmiddleware.ts\u001b[0m\n",
            "├── \u001b[00mnext-env.d.ts\u001b[0m\n",
            "├── \u001b[00mpackage.json\u001b[0m\n",
            "├── \u001b[00mpnpm-lock.yaml\u001b[0m\n",
            "├── \u001b[00mpostcss.config.js\u001b[0m\n",
            "├── \u001b[01;34mprompts\u001b[0m\n",
            "│   ├── \u001b[00mcode-format-sql.md\u001b[0m\n",
            "│   ├── \u001b[00mcoding-guidelines.md\u001b[0m\n",
            "│   ├── \u001b[00mdatabase-create-migration.md\u001b[0m\n",
            "│   ├── \u001b[00mload-files.md\u001b[0m\n",
            "│   ├── \u001b[00mtailwind-css-cheat-sheet.md\u001b[0m\n",
            "│   └── \u001b[00mv0.md\u001b[0m\n",
            "├── \u001b[01;34mpublic\u001b[0m\n",
            "│   ├── \u001b[00marchitecture_diagram.png\u001b[0m\n",
            "│   ├── \u001b[00marchitecture_diagram.svg\u001b[0m\n",
            "│   ├── \u001b[00mdemo.png\u001b[0m\n",
            "│   ├── \u001b[00mfavicon.ico\u001b[0m\n",
            "│   ├── \u001b[00mgithub.svg\u001b[0m\n",
            "│   ├── \u001b[00mnextjs.svg\u001b[0m\n",
            "│   ├── \u001b[00mstripe.svg\u001b[0m\n",
            "│   ├── \u001b[00msupabase.svg\u001b[0m\n",
            "│   ├── \u001b[00mvercel-deploy.png\u001b[0m\n",
            "│   └── \u001b[00mvercel.svg\u001b[0m\n",
            "├── \u001b[00mREADME.md\u001b[0m\n",
            "├── \u001b[00mschema.sql\u001b[0m\n",
            "├── \u001b[01;34mstyles\u001b[0m\n",
            "│   └── \u001b[00mmain.css\u001b[0m\n",
            "├── \u001b[01;34msupabase\u001b[0m\n",
            "│   ├── \u001b[00mconfig.toml\u001b[0m\n",
            "│   ├── \u001b[01;34mmigrations\u001b[0m\n",
            "│   │   └── \u001b[00m20230530034630_init.sql\u001b[0m\n",
            "│   └── \u001b[00mseed.sql\u001b[0m\n",
            "├── \u001b[00mtailwind.config.js\u001b[0m\n",
            "├── \u001b[00mtsconfig.json\u001b[0m\n",
            "├── \u001b[00mtypes_db.ts\u001b[0m\n",
            "└── \u001b[01;34mutils\u001b[0m\n",
            "    ├── \u001b[01;34mauth-helpers\u001b[0m\n",
            "    │   ├── \u001b[00mclient.ts\u001b[0m\n",
            "    │   ├── \u001b[00mserver.ts\u001b[0m\n",
            "    │   └── \u001b[00msettings.ts\u001b[0m\n",
            "    ├── \u001b[00mcn.ts\u001b[0m\n",
            "    ├── \u001b[00mhelpers.ts\u001b[0m\n",
            "    ├── \u001b[01;34mstripe\u001b[0m\n",
            "    │   ├── \u001b[00mclient.ts\u001b[0m\n",
            "    │   ├── \u001b[00mconfig.ts\u001b[0m\n",
            "    │   └── \u001b[00mserver.ts\u001b[0m\n",
            "    └── \u001b[01;34msupabase\u001b[0m\n",
            "        ├── \u001b[00madmin.ts\u001b[0m\n",
            "        ├── \u001b[00mclient.ts\u001b[0m\n",
            "        ├── \u001b[00mmiddleware.ts\u001b[0m\n",
            "        ├── \u001b[00mqueries.ts\u001b[0m\n",
            "        └── \u001b[00mserver.ts\u001b[0m\n",
            "\n",
            "34 directories, 93 files\n"
          ]
        }
      ]
    },
    {
      "cell_type": "code",
      "source": [
        "!git ls-tree -r HEAD --name-only"
      ],
      "metadata": {
        "id": "dROhooezApkf",
        "outputId": "79ff9631-5151-43ca-bbaf-4cffc815396c",
        "colab": {
          "base_uri": "https://localhost:8080/"
        }
      },
      "execution_count": null,
      "outputs": [
        {
          "output_type": "stream",
          "name": "stdout",
          "text": [
            ".cursorignore\n",
            ".gitignore\n",
            ".prettierignore\n",
            ".prettierrc.json\n",
            "LICENSE\n",
            "README.md\n",
            "app/account/page.tsx\n",
            "app/api/webhooks/route.ts\n",
            "app/auth/callback/route.ts\n",
            "app/auth/reset_password/route.ts\n",
            "app/layout.tsx\n",
            "app/opengraph-image.png\n",
            "app/page.tsx\n",
            "app/signin/[id]/page.tsx\n",
            "app/signin/page.tsx\n",
            "components.json\n",
            "components/icons/GitHub.tsx\n",
            "components/icons/Logo.tsx\n",
            "components/ui/AccountForms/CustomerPortalForm.tsx\n",
            "components/ui/AccountForms/EmailForm.tsx\n",
            "components/ui/AccountForms/NameForm.tsx\n",
            "components/ui/AuthForms/EmailSignIn.tsx\n",
            "components/ui/AuthForms/ForgotPassword.tsx\n",
            "components/ui/AuthForms/OauthSignIn.tsx\n",
            "components/ui/AuthForms/PasswordSignIn.tsx\n",
            "components/ui/AuthForms/Separator.tsx\n",
            "components/ui/AuthForms/Signup.tsx\n",
            "components/ui/AuthForms/UpdatePassword.tsx\n",
            "components/ui/Button/Button.module.css\n",
            "components/ui/Button/Button.tsx\n",
            "components/ui/Button/index.ts\n",
            "components/ui/Card/Card.tsx\n",
            "components/ui/Card/index.ts\n",
            "components/ui/Footer/Footer.tsx\n",
            "components/ui/Footer/index.ts\n",
            "components/ui/Input/Input.module.css\n",
            "components/ui/Input/Input.tsx\n",
            "components/ui/Input/index.ts\n",
            "components/ui/LoadingDots/LoadingDots.module.css\n",
            "components/ui/LoadingDots/LoadingDots.tsx\n",
            "components/ui/LoadingDots/index.ts\n",
            "components/ui/LogoCloud/LogoCloud.tsx\n",
            "components/ui/LogoCloud/index.ts\n",
            "components/ui/Navbar/Navbar.module.css\n",
            "components/ui/Navbar/Navbar.tsx\n",
            "components/ui/Navbar/Navlinks.tsx\n",
            "components/ui/Navbar/index.ts\n",
            "components/ui/Pricing/Pricing.tsx\n",
            "components/ui/Toasts/toast.tsx\n",
            "components/ui/Toasts/toaster.tsx\n",
            "components/ui/Toasts/use-toast.ts\n",
            "docs/memo.md\n",
            "docs/project_summary.md\n",
            "fixtures/stripe-fixtures.json\n",
            "middleware.ts\n",
            "next-env.d.ts\n",
            "package.json\n",
            "pnpm-lock.yaml\n",
            "postcss.config.js\n",
            "prompts/code-format-sql.md\n",
            "prompts/coding-guidelines.md\n",
            "prompts/database-create-migration.md\n",
            "prompts/load-files.md\n",
            "prompts/tailwind-css-cheat-sheet.md\n",
            "prompts/v0.md\n",
            "public/architecture_diagram.png\n",
            "public/architecture_diagram.svg\n",
            "public/demo.png\n",
            "public/favicon.ico\n",
            "public/github.svg\n",
            "public/nextjs.svg\n",
            "public/stripe.svg\n",
            "public/supabase.svg\n",
            "public/vercel-deploy.png\n",
            "public/vercel.svg\n",
            "schema.sql\n",
            "styles/main.css\n",
            "supabase/.gitignore\n",
            "supabase/config.toml\n",
            "supabase/migrations/20230530034630_init.sql\n",
            "supabase/seed.sql\n",
            "tailwind.config.js\n",
            "tsconfig.json\n",
            "types_db.ts\n",
            "utils/auth-helpers/client.ts\n",
            "utils/auth-helpers/server.ts\n",
            "utils/auth-helpers/settings.ts\n",
            "utils/cn.ts\n",
            "utils/helpers.ts\n",
            "utils/stripe/client.ts\n",
            "utils/stripe/config.ts\n",
            "utils/stripe/server.ts\n",
            "utils/supabase/admin.ts\n",
            "utils/supabase/client.ts\n",
            "utils/supabase/middleware.ts\n",
            "utils/supabase/queries.ts\n",
            "utils/supabase/server.ts\n"
          ]
        }
      ]
    },
    {
      "cell_type": "code",
      "source": [
        "from google.colab import userdata\n",
        "GOOGLE_API_KEY=userdata.get('GOOGLE_API_KEY')\n",
        "\n",
        "import google.generativeai as genai\n",
        "genai.configure(api_key=GOOGLE_API_KEY)\n",
        "\n",
        "for m in genai.list_models():\n",
        "  if 'generateContent' in m.supported_generation_methods:\n",
        "      print(m.name)"
      ],
      "metadata": {
        "id": "aJ0uOBw9WkTs",
        "outputId": "ad7337d7-2b7d-4a7d-b7e4-c469dab84b7d",
        "colab": {
          "base_uri": "https://localhost:8080/",
          "height": 312
        }
      },
      "execution_count": null,
      "outputs": [
        {
          "output_type": "stream",
          "name": "stdout",
          "text": [
            "models/gemini-1.0-pro-latest\n",
            "models/gemini-1.0-pro\n",
            "models/gemini-pro\n",
            "models/gemini-1.0-pro-001\n",
            "models/gemini-1.0-pro-vision-latest\n",
            "models/gemini-pro-vision\n",
            "models/gemini-1.5-pro-latest\n",
            "models/gemini-1.5-pro-001\n",
            "models/gemini-1.5-pro\n",
            "models/gemini-1.5-pro-exp-0801\n",
            "models/gemini-1.5-pro-exp-0827\n",
            "models/gemini-1.5-flash-latest\n",
            "models/gemini-1.5-flash-001\n",
            "models/gemini-1.5-flash-001-tuning\n",
            "models/gemini-1.5-flash\n",
            "models/gemini-1.5-flash-exp-0827\n",
            "models/gemini-1.5-flash-8b-exp-0827\n"
          ]
        }
      ]
    },
    {
      "cell_type": "code",
      "source": [
        "system_prompt = \"\"\"与えられたコードを分析しコード全体の構造と流れを理解してください。それを踏まえてコードの概要と主な要素を解説してください。\n",
        "\n",
        "# 出力形式\n",
        "- コードの概要\n",
        "- 主な要素\"\"\"\n",
        "\n",
        "content = \"\"\"```components/ui/Card/Card.tsx\n",
        "import { ReactNode } from 'react';\n",
        "\n",
        "interface Props {\n",
        "  title: string;\n",
        "  description?: string;\n",
        "  footer?: ReactNode;\n",
        "  children: ReactNode;\n",
        "}\n",
        "\n",
        "export default function Card({ title, description, footer, children }: Props) {\n",
        "  return (\n",
        "    <div className=\"w-full max-w-3xl m-auto my-8 border rounded-md p border-zinc-700\">\n",
        "      <div className=\"px-5 py-4\">\n",
        "        <h3 className=\"mb-1 text-2xl font-medium\">{title}</h3>\n",
        "        <p className=\"text-zinc-300\">{description}</p>\n",
        "        {children}\n",
        "      </div>\n",
        "      {footer && (\n",
        "        <div className=\"p-4 border-t rounded-b-md border-zinc-700 bg-zinc-900 text-zinc-500\">\n",
        "          {footer}\n",
        "        </div>\n",
        "      )}\n",
        "    </div>\n",
        "  );\n",
        "}\n",
        "```\"\"\"\n",
        "\n",
        "model = genai.GenerativeModel('gemini-1.5-flash-exp-0827',\n",
        "                              system_instruction=[system_prompt],\n",
        "                              generation_config=genai.types.GenerationConfig(temperature=1.0)\n",
        "                              )\n",
        "\n",
        "response = model.generate_content(content)\n",
        "print(response.text)"
      ],
      "metadata": {
        "id": "EOmNmW83WkWL",
        "outputId": "60f52586-e454-43ee-d896-485295ce53e9",
        "colab": {
          "base_uri": "https://localhost:8080/",
          "height": 610
        }
      },
      "execution_count": null,
      "outputs": [
        {
          "output_type": "stream",
          "name": "stdout",
          "text": [
            "## コードの概要\n",
            "\n",
            "このコードは、Reactコンポーネント `Card` を定義しています。`Card` コンポーネントは、タイトル、説明、フッター、そしてコンテンツを保持できるカード状のUI要素をレンダリングします。スタイリングはCSSを用いて、境界線、パディング、マージンなどを設定し、カードらしい見た目に仕上げています。\n",
            "\n",
            "\n",
            "## 主な要素\n",
            "\n",
            "1. **インターフェース `Props`:**\n",
            "   - コンポーネント `Card` に渡されるプロパティを定義しています。\n",
            "   - `title` (必須): カードのタイトルを表す文字列。\n",
            "   - `description` (オプション): カードの説明を表す文字列。\n",
            "   - `footer` (オプション): カードのフッター部分に表示するReactノード。\n",
            "   - `children` (必須): カードのメインコンテンツに表示するReactノード。\n",
            "\n",
            "\n",
            "2. **関数コンポーネント `Card`:**\n",
            "   - `Props` インターフェースで定義されたプロパティを受け取ります。\n",
            "   - `div` 要素を使ってカードの構造を構築しています。\n",
            "   - `className` 属性でCSSクラスを指定し、カードのスタイルを適用しています。\n",
            "   - **タイトル (`title`)**: `h3` 要素で表示。\n",
            "   - **説明 (`description`)**: `p` 要素で表示。\n",
            "   - **コンテンツ (`children`)**: プロパティで渡されたReactノードを表示。\n",
            "   - **フッター (`footer`)**: \n",
            "     - `footer` プロパティが指定されている場合にのみ表示されます。\n",
            "     - `div` 要素で囲まれ、境界線と背景色で区切られています。\n",
            "\n",
            "\n",
            "3. **CSSスタイリング:**\n",
            "   - `className` 属性で指定されたCSSクラスを用いて、カードの幅、マージン、境界線、パディング、テキストの色などを設定しています。\n",
            "\n",
            "\n",
            "**要約すると、このコードは再利用可能なカードコンポーネントを提供し、タイトル、説明、フッター、そしてコンテンツを柔軟に設定できるように設計されています。** \n",
            "\n"
          ]
        }
      ]
    },
    {
      "cell_type": "code",
      "source": [
        "def get_file_list():\n",
        "    result = subprocess.run(['git', 'ls-tree', '-r', '--name-only', 'HEAD'], capture_output=True, text=True)\n",
        "    return result.stdout.splitlines()\n",
        "\n",
        "file_list = get_file_list()\n",
        "\n",
        "# 拡張子の集合を作成\n",
        "extensions = set()\n",
        "for filename in file_list:\n",
        "    # ファイル名に '.' が含まれている場合のみ拡張子を取得\n",
        "    if '.' in filename:\n",
        "        # ファイル名を '.' で分割し、最後の要素（拡張子）を取得\n",
        "        extension = filename.rsplit('.', 1)[-1]\n",
        "        # 空でない拡張子のみを集合に追加\n",
        "        if extension:\n",
        "            extensions.add(extension.lower())  # 小文字に変換して追加\n",
        "\n",
        "# 拡張子の一覧\n",
        "print(extensions)"
      ],
      "metadata": {
        "id": "1GQN2KIwMTjv",
        "outputId": "f29b0891-f518-4cd3-a5d7-2958124797ae",
        "colab": {
          "base_uri": "https://localhost:8080/"
        }
      },
      "execution_count": null,
      "outputs": [
        {
          "output_type": "stream",
          "name": "stdout",
          "text": [
            "{'png', 'gitignore', 'sql', 'js', 'ico', 'css', 'prettierignore', 'toml', 'ts', 'yaml', 'tsx', 'json', 'svg', 'md', 'cursorignore'}\n"
          ]
        }
      ]
    },
    {
      "cell_type": "code",
      "source": [
        "import subprocess\n",
        "import chardet\n",
        "import os\n",
        "import time\n",
        "from tqdm import tqdm\n",
        "\n",
        "def get_file_list():\n",
        "    result = subprocess.run(['git', 'ls-tree', '-r', '--name-only', 'HEAD'], capture_output=True, text=True)\n",
        "    return result.stdout.splitlines()\n",
        "\n",
        "file_list = get_file_list()\n",
        "# file_list = file_list[38+9+48:]   # TooManyRequests のエラーが出るので途中から再開する\n",
        "\n",
        "all_contents = \"\"\n",
        "for index, file in enumerate(tqdm(file_list, desc=\"Processing files\")):\n",
        "\n",
        "    command = f'git show HEAD:{file}'\n",
        "    result = subprocess.run(command.split(), capture_output=True)\n",
        "\n",
        "    # バイナリファイルをチェック\n",
        "    if b'\\x00' not in result.stdout[:1024]:  # 最初の1024バイトにnull文字がなければテキストファイルと判断\n",
        "        raw_data = result.stdout\n",
        "        detected_encoding = chardet.detect(raw_data)\n",
        "        # エンコーディングが検出できなかった場合はUTF-8を使用\n",
        "        encoding = detected_encoding['encoding'] or 'utf-8'\n",
        "\n",
        "        try:\n",
        "            # エンコーディングを指定してデコード\n",
        "            decoded_content = raw_data.decode(encoding, errors='replace')\n",
        "            content = f\"```{file}\\n{decoded_content}```\"\n",
        "            # 拡張子の抽出\n",
        "            root_ext_pair = os.path.splitext(file)\n",
        "            ext = root_ext_pair[1]\n",
        "\n",
        "            # 拡張子がリストの中に含まれているなら Gemini で解説する\n",
        "            if ext in [\".sql\", \".js\", \".css\", \".ts\", \".yaml\", \".tsx\", \".json\"]:\n",
        "                response = model.generate_content(content)\n",
        "                res = response.text   # Geminiの解説\n",
        "                time.sleep(4.5)       # 1リクエストごとに 4.5 秒スリープさせる\n",
        "            else:\n",
        "                res = \"解説なし\"\n",
        "\n",
        "            all_contents += f\"- `{file}`\\n```plaintext\\n{res}\\n```\\n\\n\"\n",
        "        except UnicodeDecodeError:\n",
        "            print(f\"Warning: Could not decode {file} with detected encoding {encoding}\")\n",
        "\n",
        "\n",
        "# all_contents の内容をファイルに書き込む\n",
        "with open('all_contents.txt', 'w', encoding='utf-8') as f:\n",
        "    f.write(all_contents)\n",
        "\n",
        "print()\n",
        "print(\"ファイルが正常に保存されました。\")"
      ],
      "metadata": {
        "id": "8HMgBUSmLL1A",
        "outputId": "c39cc32f-c411-4554-ae54-8e4c58e2a61b",
        "colab": {
          "base_uri": "https://localhost:8080/",
          "height": 463
        }
      },
      "execution_count": null,
      "outputs": [
        {
          "output_type": "stream",
          "name": "stderr",
          "text": [
            "Processing files:  13%|█▎        | 13/97 [00:25<03:14,  2.31s/it]"
          ]
        },
        {
          "output_type": "stream",
          "name": "stdout",
          "text": [
            "  Sleeping ...\n"
          ]
        },
        {
          "output_type": "stream",
          "name": "stderr",
          "text": [
            "Processing files:  22%|██▏       | 21/97 [07:34<16:35, 13.10s/it]WARNING:tornado.access:429 POST /v1beta/models/gemini-1.5-flash-exp-0827:generateContent?%24alt=json%3Benum-encoding%3Dint (127.0.0.1) 840.86ms\n",
            "Processing files:  22%|██▏       | 21/97 [07:35<27:27, 21.67s/it]\n"
          ]
        },
        {
          "output_type": "error",
          "ename": "TooManyRequests",
          "evalue": "429 POST https://generativelanguage.googleapis.com/v1beta/models/gemini-1.5-flash-exp-0827:generateContent?%24alt=json%3Benum-encoding%3Dint: Resource has been exhausted (e.g. check quota).",
          "traceback": [
            "\u001b[0;31m---------------------------------------------------------------------------\u001b[0m",
            "\u001b[0;31mTooManyRequests\u001b[0m                           Traceback (most recent call last)",
            "\u001b[0;32m<ipython-input-67-80e9f226880b>\u001b[0m in \u001b[0;36m<cell line: 14>\u001b[0;34m()\u001b[0m\n\u001b[1;32m     39\u001b[0m             \u001b[0;31m# 拡張子がリストの中に含まれているなら Gemini で解説する\u001b[0m\u001b[0;34m\u001b[0m\u001b[0;34m\u001b[0m\u001b[0m\n\u001b[1;32m     40\u001b[0m             \u001b[0;32mif\u001b[0m \u001b[0mext\u001b[0m \u001b[0;32min\u001b[0m \u001b[0;34m[\u001b[0m\u001b[0;34m\".sql\"\u001b[0m\u001b[0;34m,\u001b[0m \u001b[0;34m\".js\"\u001b[0m\u001b[0;34m,\u001b[0m \u001b[0;34m\".css\"\u001b[0m\u001b[0;34m,\u001b[0m \u001b[0;34m\".ts\"\u001b[0m\u001b[0;34m,\u001b[0m \u001b[0;34m\".yaml\"\u001b[0m\u001b[0;34m,\u001b[0m \u001b[0;34m\".tsx\"\u001b[0m\u001b[0;34m,\u001b[0m \u001b[0;34m\".json\"\u001b[0m\u001b[0;34m]\u001b[0m\u001b[0;34m:\u001b[0m\u001b[0;34m\u001b[0m\u001b[0;34m\u001b[0m\u001b[0m\n\u001b[0;32m---> 41\u001b[0;31m                 \u001b[0mresponse\u001b[0m \u001b[0;34m=\u001b[0m \u001b[0mmodel\u001b[0m\u001b[0;34m.\u001b[0m\u001b[0mgenerate_content\u001b[0m\u001b[0;34m(\u001b[0m\u001b[0mcontent\u001b[0m\u001b[0;34m)\u001b[0m\u001b[0;34m\u001b[0m\u001b[0;34m\u001b[0m\u001b[0m\n\u001b[0m\u001b[1;32m     42\u001b[0m                 \u001b[0mres\u001b[0m \u001b[0;34m=\u001b[0m \u001b[0mresponse\u001b[0m\u001b[0;34m.\u001b[0m\u001b[0mtext\u001b[0m   \u001b[0;31m# Geminiの解説\u001b[0m\u001b[0;34m\u001b[0m\u001b[0;34m\u001b[0m\u001b[0m\n\u001b[1;32m     43\u001b[0m             \u001b[0;32melse\u001b[0m\u001b[0;34m:\u001b[0m\u001b[0;34m\u001b[0m\u001b[0;34m\u001b[0m\u001b[0m\n",
            "\u001b[0;32m/usr/local/lib/python3.10/dist-packages/google/generativeai/generative_models.py\u001b[0m in \u001b[0;36mgenerate_content\u001b[0;34m(self, contents, generation_config, safety_settings, stream, tools, tool_config, request_options)\u001b[0m\n\u001b[1;32m    329\u001b[0m                 \u001b[0;32mreturn\u001b[0m \u001b[0mgeneration_types\u001b[0m\u001b[0;34m.\u001b[0m\u001b[0mGenerateContentResponse\u001b[0m\u001b[0;34m.\u001b[0m\u001b[0mfrom_iterator\u001b[0m\u001b[0;34m(\u001b[0m\u001b[0miterator\u001b[0m\u001b[0;34m)\u001b[0m\u001b[0;34m\u001b[0m\u001b[0;34m\u001b[0m\u001b[0m\n\u001b[1;32m    330\u001b[0m             \u001b[0;32melse\u001b[0m\u001b[0;34m:\u001b[0m\u001b[0;34m\u001b[0m\u001b[0;34m\u001b[0m\u001b[0m\n\u001b[0;32m--> 331\u001b[0;31m                 response = self._client.generate_content(\n\u001b[0m\u001b[1;32m    332\u001b[0m                     \u001b[0mrequest\u001b[0m\u001b[0;34m,\u001b[0m\u001b[0;34m\u001b[0m\u001b[0;34m\u001b[0m\u001b[0m\n\u001b[1;32m    333\u001b[0m                     \u001b[0;34m**\u001b[0m\u001b[0mrequest_options\u001b[0m\u001b[0;34m,\u001b[0m\u001b[0;34m\u001b[0m\u001b[0;34m\u001b[0m\u001b[0m\n",
            "\u001b[0;32m/usr/local/lib/python3.10/dist-packages/google/ai/generativelanguage_v1beta/services/generative_service/client.py\u001b[0m in \u001b[0;36mgenerate_content\u001b[0;34m(self, request, model, contents, retry, timeout, metadata)\u001b[0m\n\u001b[1;32m    828\u001b[0m \u001b[0;34m\u001b[0m\u001b[0m\n\u001b[1;32m    829\u001b[0m         \u001b[0;31m# Send the request.\u001b[0m\u001b[0;34m\u001b[0m\u001b[0;34m\u001b[0m\u001b[0m\n\u001b[0;32m--> 830\u001b[0;31m         response = rpc(\n\u001b[0m\u001b[1;32m    831\u001b[0m             \u001b[0mrequest\u001b[0m\u001b[0;34m,\u001b[0m\u001b[0;34m\u001b[0m\u001b[0;34m\u001b[0m\u001b[0m\n\u001b[1;32m    832\u001b[0m             \u001b[0mretry\u001b[0m\u001b[0;34m=\u001b[0m\u001b[0mretry\u001b[0m\u001b[0;34m,\u001b[0m\u001b[0;34m\u001b[0m\u001b[0;34m\u001b[0m\u001b[0m\n",
            "\u001b[0;32m/usr/local/lib/python3.10/dist-packages/google/api_core/gapic_v1/method.py\u001b[0m in \u001b[0;36m__call__\u001b[0;34m(self, timeout, retry, compression, *args, **kwargs)\u001b[0m\n\u001b[1;32m    129\u001b[0m             \u001b[0mkwargs\u001b[0m\u001b[0;34m[\u001b[0m\u001b[0;34m\"compression\"\u001b[0m\u001b[0;34m]\u001b[0m \u001b[0;34m=\u001b[0m \u001b[0mcompression\u001b[0m\u001b[0;34m\u001b[0m\u001b[0;34m\u001b[0m\u001b[0m\n\u001b[1;32m    130\u001b[0m \u001b[0;34m\u001b[0m\u001b[0m\n\u001b[0;32m--> 131\u001b[0;31m         \u001b[0;32mreturn\u001b[0m \u001b[0mwrapped_func\u001b[0m\u001b[0;34m(\u001b[0m\u001b[0;34m*\u001b[0m\u001b[0margs\u001b[0m\u001b[0;34m,\u001b[0m \u001b[0;34m**\u001b[0m\u001b[0mkwargs\u001b[0m\u001b[0;34m)\u001b[0m\u001b[0;34m\u001b[0m\u001b[0;34m\u001b[0m\u001b[0m\n\u001b[0m\u001b[1;32m    132\u001b[0m \u001b[0;34m\u001b[0m\u001b[0m\n\u001b[1;32m    133\u001b[0m \u001b[0;34m\u001b[0m\u001b[0m\n",
            "\u001b[0;32m/usr/local/lib/python3.10/dist-packages/google/api_core/retry/retry_unary.py\u001b[0m in \u001b[0;36mretry_wrapped_func\u001b[0;34m(*args, **kwargs)\u001b[0m\n\u001b[1;32m    291\u001b[0m                 \u001b[0mself\u001b[0m\u001b[0;34m.\u001b[0m\u001b[0m_initial\u001b[0m\u001b[0;34m,\u001b[0m \u001b[0mself\u001b[0m\u001b[0;34m.\u001b[0m\u001b[0m_maximum\u001b[0m\u001b[0;34m,\u001b[0m \u001b[0mmultiplier\u001b[0m\u001b[0;34m=\u001b[0m\u001b[0mself\u001b[0m\u001b[0;34m.\u001b[0m\u001b[0m_multiplier\u001b[0m\u001b[0;34m\u001b[0m\u001b[0;34m\u001b[0m\u001b[0m\n\u001b[1;32m    292\u001b[0m             )\n\u001b[0;32m--> 293\u001b[0;31m             return retry_target(\n\u001b[0m\u001b[1;32m    294\u001b[0m                 \u001b[0mtarget\u001b[0m\u001b[0;34m,\u001b[0m\u001b[0;34m\u001b[0m\u001b[0;34m\u001b[0m\u001b[0m\n\u001b[1;32m    295\u001b[0m                 \u001b[0mself\u001b[0m\u001b[0;34m.\u001b[0m\u001b[0m_predicate\u001b[0m\u001b[0;34m,\u001b[0m\u001b[0;34m\u001b[0m\u001b[0;34m\u001b[0m\u001b[0m\n",
            "\u001b[0;32m/usr/local/lib/python3.10/dist-packages/google/api_core/retry/retry_unary.py\u001b[0m in \u001b[0;36mretry_target\u001b[0;34m(target, predicate, sleep_generator, timeout, on_error, exception_factory, **kwargs)\u001b[0m\n\u001b[1;32m    151\u001b[0m         \u001b[0;32mexcept\u001b[0m \u001b[0mException\u001b[0m \u001b[0;32mas\u001b[0m \u001b[0mexc\u001b[0m\u001b[0;34m:\u001b[0m\u001b[0;34m\u001b[0m\u001b[0;34m\u001b[0m\u001b[0m\n\u001b[1;32m    152\u001b[0m             \u001b[0;31m# defer to shared logic for handling errors\u001b[0m\u001b[0;34m\u001b[0m\u001b[0;34m\u001b[0m\u001b[0m\n\u001b[0;32m--> 153\u001b[0;31m             _retry_error_helper(\n\u001b[0m\u001b[1;32m    154\u001b[0m                 \u001b[0mexc\u001b[0m\u001b[0;34m,\u001b[0m\u001b[0;34m\u001b[0m\u001b[0;34m\u001b[0m\u001b[0m\n\u001b[1;32m    155\u001b[0m                 \u001b[0mdeadline\u001b[0m\u001b[0;34m,\u001b[0m\u001b[0;34m\u001b[0m\u001b[0;34m\u001b[0m\u001b[0m\n",
            "\u001b[0;32m/usr/local/lib/python3.10/dist-packages/google/api_core/retry/retry_base.py\u001b[0m in \u001b[0;36m_retry_error_helper\u001b[0;34m(exc, deadline, next_sleep, error_list, predicate_fn, on_error_fn, exc_factory_fn, original_timeout)\u001b[0m\n\u001b[1;32m    210\u001b[0m             \u001b[0moriginal_timeout\u001b[0m\u001b[0;34m,\u001b[0m\u001b[0;34m\u001b[0m\u001b[0;34m\u001b[0m\u001b[0m\n\u001b[1;32m    211\u001b[0m         )\n\u001b[0;32m--> 212\u001b[0;31m         \u001b[0;32mraise\u001b[0m \u001b[0mfinal_exc\u001b[0m \u001b[0;32mfrom\u001b[0m \u001b[0msource_exc\u001b[0m\u001b[0;34m\u001b[0m\u001b[0;34m\u001b[0m\u001b[0m\n\u001b[0m\u001b[1;32m    213\u001b[0m     \u001b[0;32mif\u001b[0m \u001b[0mon_error_fn\u001b[0m \u001b[0;32mis\u001b[0m \u001b[0;32mnot\u001b[0m \u001b[0;32mNone\u001b[0m\u001b[0;34m:\u001b[0m\u001b[0;34m\u001b[0m\u001b[0;34m\u001b[0m\u001b[0m\n\u001b[1;32m    214\u001b[0m         \u001b[0mon_error_fn\u001b[0m\u001b[0;34m(\u001b[0m\u001b[0mexc\u001b[0m\u001b[0;34m)\u001b[0m\u001b[0;34m\u001b[0m\u001b[0;34m\u001b[0m\u001b[0m\n",
            "\u001b[0;32m/usr/local/lib/python3.10/dist-packages/google/api_core/retry/retry_unary.py\u001b[0m in \u001b[0;36mretry_target\u001b[0;34m(target, predicate, sleep_generator, timeout, on_error, exception_factory, **kwargs)\u001b[0m\n\u001b[1;32m    142\u001b[0m     \u001b[0;32mfor\u001b[0m \u001b[0msleep\u001b[0m \u001b[0;32min\u001b[0m \u001b[0msleep_generator\u001b[0m\u001b[0;34m:\u001b[0m\u001b[0;34m\u001b[0m\u001b[0;34m\u001b[0m\u001b[0m\n\u001b[1;32m    143\u001b[0m         \u001b[0;32mtry\u001b[0m\u001b[0;34m:\u001b[0m\u001b[0;34m\u001b[0m\u001b[0;34m\u001b[0m\u001b[0m\n\u001b[0;32m--> 144\u001b[0;31m             \u001b[0mresult\u001b[0m \u001b[0;34m=\u001b[0m \u001b[0mtarget\u001b[0m\u001b[0;34m(\u001b[0m\u001b[0;34m)\u001b[0m\u001b[0;34m\u001b[0m\u001b[0;34m\u001b[0m\u001b[0m\n\u001b[0m\u001b[1;32m    145\u001b[0m             \u001b[0;32mif\u001b[0m \u001b[0minspect\u001b[0m\u001b[0;34m.\u001b[0m\u001b[0misawaitable\u001b[0m\u001b[0;34m(\u001b[0m\u001b[0mresult\u001b[0m\u001b[0;34m)\u001b[0m\u001b[0;34m:\u001b[0m\u001b[0;34m\u001b[0m\u001b[0;34m\u001b[0m\u001b[0m\n\u001b[1;32m    146\u001b[0m                 \u001b[0mwarnings\u001b[0m\u001b[0;34m.\u001b[0m\u001b[0mwarn\u001b[0m\u001b[0;34m(\u001b[0m\u001b[0m_ASYNC_RETRY_WARNING\u001b[0m\u001b[0;34m)\u001b[0m\u001b[0;34m\u001b[0m\u001b[0;34m\u001b[0m\u001b[0m\n",
            "\u001b[0;32m/usr/local/lib/python3.10/dist-packages/google/api_core/timeout.py\u001b[0m in \u001b[0;36mfunc_with_timeout\u001b[0;34m(*args, **kwargs)\u001b[0m\n\u001b[1;32m    118\u001b[0m                 \u001b[0mkwargs\u001b[0m\u001b[0;34m[\u001b[0m\u001b[0;34m\"timeout\"\u001b[0m\u001b[0;34m]\u001b[0m \u001b[0;34m=\u001b[0m \u001b[0mmax\u001b[0m\u001b[0;34m(\u001b[0m\u001b[0;36m0\u001b[0m\u001b[0;34m,\u001b[0m \u001b[0mself\u001b[0m\u001b[0;34m.\u001b[0m\u001b[0m_timeout\u001b[0m \u001b[0;34m-\u001b[0m \u001b[0mtime_since_first_attempt\u001b[0m\u001b[0;34m)\u001b[0m\u001b[0;34m\u001b[0m\u001b[0;34m\u001b[0m\u001b[0m\n\u001b[1;32m    119\u001b[0m \u001b[0;34m\u001b[0m\u001b[0m\n\u001b[0;32m--> 120\u001b[0;31m             \u001b[0;32mreturn\u001b[0m \u001b[0mfunc\u001b[0m\u001b[0;34m(\u001b[0m\u001b[0;34m*\u001b[0m\u001b[0margs\u001b[0m\u001b[0;34m,\u001b[0m \u001b[0;34m**\u001b[0m\u001b[0mkwargs\u001b[0m\u001b[0;34m)\u001b[0m\u001b[0;34m\u001b[0m\u001b[0;34m\u001b[0m\u001b[0m\n\u001b[0m\u001b[1;32m    121\u001b[0m \u001b[0;34m\u001b[0m\u001b[0m\n\u001b[1;32m    122\u001b[0m         \u001b[0;32mreturn\u001b[0m \u001b[0mfunc_with_timeout\u001b[0m\u001b[0;34m\u001b[0m\u001b[0;34m\u001b[0m\u001b[0m\n",
            "\u001b[0;32m/usr/local/lib/python3.10/dist-packages/google/api_core/grpc_helpers.py\u001b[0m in \u001b[0;36merror_remapped_callable\u001b[0;34m(*args, **kwargs)\u001b[0m\n\u001b[1;32m     74\u001b[0m     \u001b[0;32mdef\u001b[0m \u001b[0merror_remapped_callable\u001b[0m\u001b[0;34m(\u001b[0m\u001b[0;34m*\u001b[0m\u001b[0margs\u001b[0m\u001b[0;34m,\u001b[0m \u001b[0;34m**\u001b[0m\u001b[0mkwargs\u001b[0m\u001b[0;34m)\u001b[0m\u001b[0;34m:\u001b[0m\u001b[0;34m\u001b[0m\u001b[0;34m\u001b[0m\u001b[0m\n\u001b[1;32m     75\u001b[0m         \u001b[0;32mtry\u001b[0m\u001b[0;34m:\u001b[0m\u001b[0;34m\u001b[0m\u001b[0;34m\u001b[0m\u001b[0m\n\u001b[0;32m---> 76\u001b[0;31m             \u001b[0;32mreturn\u001b[0m \u001b[0mcallable_\u001b[0m\u001b[0;34m(\u001b[0m\u001b[0;34m*\u001b[0m\u001b[0margs\u001b[0m\u001b[0;34m,\u001b[0m \u001b[0;34m**\u001b[0m\u001b[0mkwargs\u001b[0m\u001b[0;34m)\u001b[0m\u001b[0;34m\u001b[0m\u001b[0;34m\u001b[0m\u001b[0m\n\u001b[0m\u001b[1;32m     77\u001b[0m         \u001b[0;32mexcept\u001b[0m \u001b[0mgrpc\u001b[0m\u001b[0;34m.\u001b[0m\u001b[0mRpcError\u001b[0m \u001b[0;32mas\u001b[0m \u001b[0mexc\u001b[0m\u001b[0;34m:\u001b[0m\u001b[0;34m\u001b[0m\u001b[0;34m\u001b[0m\u001b[0m\n\u001b[1;32m     78\u001b[0m             \u001b[0;32mraise\u001b[0m \u001b[0mexceptions\u001b[0m\u001b[0;34m.\u001b[0m\u001b[0mfrom_grpc_error\u001b[0m\u001b[0;34m(\u001b[0m\u001b[0mexc\u001b[0m\u001b[0;34m)\u001b[0m \u001b[0;32mfrom\u001b[0m \u001b[0mexc\u001b[0m\u001b[0;34m\u001b[0m\u001b[0;34m\u001b[0m\u001b[0m\n",
            "\u001b[0;32m/usr/local/lib/python3.10/dist-packages/google/ai/generativelanguage_v1beta/services/generative_service/transports/rest.py\u001b[0m in \u001b[0;36m__call__\u001b[0;34m(self, request, retry, timeout, metadata)\u001b[0m\n\u001b[1;32m    845\u001b[0m             \u001b[0;31m# subclass.\u001b[0m\u001b[0;34m\u001b[0m\u001b[0;34m\u001b[0m\u001b[0m\n\u001b[1;32m    846\u001b[0m             \u001b[0;32mif\u001b[0m \u001b[0mresponse\u001b[0m\u001b[0;34m.\u001b[0m\u001b[0mstatus_code\u001b[0m \u001b[0;34m>=\u001b[0m \u001b[0;36m400\u001b[0m\u001b[0;34m:\u001b[0m\u001b[0;34m\u001b[0m\u001b[0;34m\u001b[0m\u001b[0m\n\u001b[0;32m--> 847\u001b[0;31m                 \u001b[0;32mraise\u001b[0m \u001b[0mcore_exceptions\u001b[0m\u001b[0;34m.\u001b[0m\u001b[0mfrom_http_response\u001b[0m\u001b[0;34m(\u001b[0m\u001b[0mresponse\u001b[0m\u001b[0;34m)\u001b[0m\u001b[0;34m\u001b[0m\u001b[0;34m\u001b[0m\u001b[0m\n\u001b[0m\u001b[1;32m    848\u001b[0m \u001b[0;34m\u001b[0m\u001b[0m\n\u001b[1;32m    849\u001b[0m             \u001b[0;31m# Return the response\u001b[0m\u001b[0;34m\u001b[0m\u001b[0;34m\u001b[0m\u001b[0m\n",
            "\u001b[0;31mTooManyRequests\u001b[0m: 429 POST https://generativelanguage.googleapis.com/v1beta/models/gemini-1.5-flash-exp-0827:generateContent?%24alt=json%3Benum-encoding%3Dint: Resource has been exhausted (e.g. check quota)."
          ]
        }
      ]
    },
    {
      "cell_type": "code",
      "source": [
        "# all_contents の内容をファイルに書き込む\n",
        "with open('all_contents.txt', 'w', encoding='utf-8') as f:\n",
        "    f.write(all_contents)\n",
        "\n",
        "print(\"ファイルが正常に保存されました。\")"
      ],
      "metadata": {
        "id": "SRIClSxRl01F"
      },
      "execution_count": null,
      "outputs": []
    }
  ],
  "metadata": {
    "colab": {
      "provenance": []
    },
    "kernelspec": {
      "display_name": "Python 3",
      "name": "python3"
    }
  },
  "nbformat": 4,
  "nbformat_minor": 0
}